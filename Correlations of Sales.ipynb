{
 "cells": [
  {
   "cell_type": "code",
   "execution_count": 1,
   "metadata": {
    "collapsed": true
   },
   "outputs": [],
   "source": [
    "import pandas as pd\n",
    "import numpy as np"
   ]
  },
  {
   "cell_type": "code",
   "execution_count": 2,
   "metadata": {
    "collapsed": true
   },
   "outputs": [],
   "source": [
    "real_sales =  pd.DataFrame.from_csv('sales-jan-mar-2017.csv').reset_index()\n",
    "real_sales['Salesdate'] = pd.to_datetime(real_sales['Salesdate'], format='%Y-%m-%d %H:%M:%S')"
   ]
  },
  {
   "cell_type": "code",
   "execution_count": 3,
   "metadata": {
    "collapsed": true
   },
   "outputs": [],
   "source": [
    "real_sales_mar = real_sales[real_sales['Month']==3]"
   ]
  },
  {
   "cell_type": "code",
   "execution_count": 4,
   "metadata": {
    "collapsed": true
   },
   "outputs": [],
   "source": [
    "sales_estimated_ml =  pd.DataFrame.from_csv('sales_march_ml.csv').reset_index()\n",
    "sales_estimated_ml['Salesdate'] = sales_estimated_ml['Salesdate'].str.replace('/', '-')\n",
    "sales_estimated_ml['Salesdate'] = pd.to_datetime(sales_estimated_ml['Salesdate'], format='%d-%m-%Y')"
   ]
  },
  {
   "cell_type": "code",
   "execution_count": 5,
   "metadata": {
    "collapsed": true
   },
   "outputs": [],
   "source": [
    "sales_estimated_avg =  pd.DataFrame.from_csv('sales_march_moving_average.csv').reset_index()\n",
    "sales_estimated_avg['Salesdate'] = sales_estimated_avg['Salesdate'].str.replace('/', '-')\n",
    "sales_estimated_avg['Salesdate'] = pd.to_datetime(sales_estimated_avg['Salesdate'], format='%d-%m-%Y')"
   ]
  },
  {
   "cell_type": "code",
   "execution_count": 6,
   "metadata": {
    "collapsed": true
   },
   "outputs": [],
   "source": [
    "sales_with_ml = pd.merge(real_sales_mar, sales_estimated_ml, on=['Locationid','RecipeName','PLU','Year','Month','Day','WeekDay','YearDay'], how='inner')\n",
    "sales_with_ml_avg = pd.merge(sales_with_ml, sales_estimated_avg, on=['Locationid','RecipeName','PLU','Year','Month','Day','WeekDay','YearDay'], how='inner')\n",
    "sales_with_ml_avg = sales_with_ml_avg.rename(columns={'Quantity_x': 'real', 'Quantity_y':'ml', 'Quantity':'avg'})"
   ]
  },
  {
   "cell_type": "code",
   "execution_count": 7,
   "metadata": {
    "collapsed": true
   },
   "outputs": [],
   "source": [
    "products = sales_with_ml_avg['PLU'].unique().tolist()\n",
    "locations = sales_with_ml_avg['Locationid'].unique().tolist()"
   ]
  },
  {
   "cell_type": "code",
   "execution_count": 8,
   "metadata": {},
   "outputs": [
    {
     "data": {
      "text/html": [
       "<div>\n",
       "<style>\n",
       "    .dataframe thead tr:only-child th {\n",
       "        text-align: right;\n",
       "    }\n",
       "\n",
       "    .dataframe thead th {\n",
       "        text-align: left;\n",
       "    }\n",
       "\n",
       "    .dataframe tbody tr th {\n",
       "        vertical-align: top;\n",
       "    }\n",
       "</style>\n",
       "<table border=\"1\" class=\"dataframe\">\n",
       "  <thead>\n",
       "    <tr style=\"text-align: right;\">\n",
       "      <th></th>\n",
       "      <th>real</th>\n",
       "      <th>ml</th>\n",
       "      <th>avg</th>\n",
       "    </tr>\n",
       "  </thead>\n",
       "  <tbody>\n",
       "    <tr>\n",
       "      <th>real</th>\n",
       "      <td>1.000000</td>\n",
       "      <td>0.230925</td>\n",
       "      <td>0.341160</td>\n",
       "    </tr>\n",
       "    <tr>\n",
       "      <th>ml</th>\n",
       "      <td>0.230925</td>\n",
       "      <td>1.000000</td>\n",
       "      <td>0.237554</td>\n",
       "    </tr>\n",
       "    <tr>\n",
       "      <th>avg</th>\n",
       "      <td>0.341160</td>\n",
       "      <td>0.237554</td>\n",
       "      <td>1.000000</td>\n",
       "    </tr>\n",
       "  </tbody>\n",
       "</table>\n",
       "</div>"
      ],
      "text/plain": [
       "          real        ml       avg\n",
       "real  1.000000  0.230925  0.341160\n",
       "ml    0.230925  1.000000  0.237554\n",
       "avg   0.341160  0.237554  1.000000"
      ]
     },
     "execution_count": 8,
     "metadata": {},
     "output_type": "execute_result"
    }
   ],
   "source": [
    "correl = sales_with_ml_avg[['real','ml','avg']].corr()\n",
    "all_population = correl*correl\n",
    "all_population"
   ]
  },
  {
   "cell_type": "code",
   "execution_count": 9,
   "metadata": {
    "collapsed": true
   },
   "outputs": [],
   "source": [
    "corr_by_groups = sales_with_ml_avg.groupby(['Locationid','RecipeName','PLU'])['real', 'ml', 'avg'].corr()\n",
    "corr_by_groups = corr_by_groups*corr_by_groups"
   ]
  },
  {
   "cell_type": "code",
   "execution_count": 11,
   "metadata": {},
   "outputs": [
    {
     "name": "stdout",
     "output_type": "stream",
     "text": [
      "Number of all observations = 2325\n",
      "ML is better in 1526 observations of 2325 (65%)\n",
      "ML perfomance is better in 11% for above observations\n",
      "AVG is better in 799 observations of 2325 (34%)\n",
      "AVG perfomance is better in 5% for above observations\n"
     ]
    }
   ],
   "source": [
    "d = corr_by_groups.reset_index()\n",
    "d = d[d['level_3']=='real']\n",
    "rows_all = len(d.index)\n",
    "print(\"Number of all observations = %d\" % (rows_all))\n",
    "\n",
    "ml_better = d[d['ml'] > d['avg']]\n",
    "ml_diff = ml_better['ml'] - ml_better['avg']\n",
    "rows_ml = len(ml_better.index)\n",
    "print(\"ML is better in %d observations of %d (%d%%)\" % (rows_ml, rows_all, rows_ml/rows_all*100))\n",
    "print(\"ML performance is better in %d%% for above observations\" % (ml_diff.mean()*100))\n",
    "\n",
    "avg_better = d[d['ml'] < d['avg']]\n",
    "avg_diff = avg_better['avg'] - avg_better['ml']\n",
    "rows_avg = len(avg_better.index)\n",
    "print(\"AVG is better in %d observations of %d (%d%%)\" % (rows_avg, rows_all, rows_avg/rows_all*100))\n",
    "print(\"AVG performance is better in %d%% for above observations\" % (avg_diff.mean()*100))"
   ]
  },
  {
   "cell_type": "code",
   "execution_count": null,
   "metadata": {
    "collapsed": true
   },
   "outputs": [],
   "source": []
  }
 ],
 "metadata": {
  "kernelspec": {
   "display_name": "Python 3",
   "language": "python",
   "name": "python3"
  },
  "language_info": {
   "codemirror_mode": {
    "name": "ipython",
    "version": 3
   },
   "file_extension": ".py",
   "mimetype": "text/x-python",
   "name": "python",
   "nbconvert_exporter": "python",
   "pygments_lexer": "ipython3",
   "version": "3.6.1"
  }
 },
 "nbformat": 4,
 "nbformat_minor": 2
}
