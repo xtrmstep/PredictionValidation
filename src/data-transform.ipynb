{
 "cells": [
  {
   "cell_type": "code",
   "execution_count": 7,
   "metadata": {},
   "outputs": [],
   "source": [
    "import pandas as pd\n",
    "import numpy as np\n",
    "import datetime as dt\n",
    "import files_utils as fu"
   ]
  },
  {
   "cell_type": "code",
   "execution_count": null,
   "metadata": {},
   "outputs": [],
   "source": [
    "raw_data_files_path = '../data/*/*.csv'\n",
    "processed_data_files_folder = '../processed/'"
   ]
  },
  {
   "cell_type": "code",
   "execution_count": null,
   "metadata": {},
   "outputs": [],
   "source": [
    "fu.clear_folder(processed_data_files_folder)"
   ]
  },
  {
   "cell_type": "code",
   "execution_count": null,
   "metadata": {},
   "outputs": [],
   "source": [
    "raw_data_files = glob.glob(raw_data_files_path)"
   ]
  },
  {
   "cell_type": "code",
   "execution_count": null,
   "metadata": {},
   "outputs": [],
   "source": [
    "path = \"data\\\\PE\\\\PE_2016.csv\"\n",
    "path = \"data\\\\PE\\\\PE_2017_Q3.csv\"\n",
    "\n",
    "data = pd.read_csv(path, sep=';', error_bad_lines=False, dtype={'LocationID':int})\n",
    "\n",
    "# read CSV using skipfooter=2 since files have a specific tail with totals (works only for the latest version of data extarct)\n",
    "#data = pd.read_csv(path, sep=';', error_bad_lines=False, skipfooter=2, engine='python')\n",
    "#data.columns.values[[0]] = ['LocationID'] # fix possible encoding artifacts"
   ]
  },
  {
   "cell_type": "markdown",
   "metadata": {},
   "source": [
    "Remove data which shouldn't be accounted in the model training\n",
    "- Negative Qty are correction of sold recipies which doesn't have effect on sales. "
   ]
  },
  {
   "cell_type": "code",
   "execution_count": null,
   "metadata": {},
   "outputs": [],
   "source": [
    "data = data[data['Quantity']>0] # Qty < 0"
   ]
  },
  {
   "cell_type": "markdown",
   "metadata": {},
   "source": [
    "check columns for missing values"
   ]
  },
  {
   "cell_type": "code",
   "execution_count": null,
   "metadata": {},
   "outputs": [],
   "source": [
    "for col in data.columns:\n",
    "    print('Nulls in',col,':', len(data[data[col].isnull()]) > 0)"
   ]
  }
 ],
 "metadata": {
  "kernelspec": {
   "display_name": "Python 3",
   "language": "python",
   "name": "python3"
  },
  "language_info": {
   "codemirror_mode": {
    "name": "ipython",
    "version": 3
   },
   "file_extension": ".py",
   "mimetype": "text/x-python",
   "name": "python",
   "nbconvert_exporter": "python",
   "pygments_lexer": "ipython3",
   "version": "3.6.4"
  }
 },
 "nbformat": 4,
 "nbformat_minor": 2
}
