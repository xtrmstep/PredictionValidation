{
 "cells": [
  {
   "cell_type": "markdown",
   "metadata": {},
   "source": [
    "Loading of data and preparing it for models"
   ]
  },
  {
   "cell_type": "markdown",
   "metadata": {},
   "source": [
    "Loading data"
   ]
  },
  {
   "cell_type": "code",
   "execution_count": null,
   "metadata": {},
   "outputs": [],
   "source": [
    "import os\n",
    "\n",
    "def get_csv_files_list(folder):\n",
    "    result = []\n",
    "    for file in os.listdir(folder):\n",
    "        result.append(folder+file)\n",
    "    return result\n",
    "\n",
    "peFiles = \"../data/raw/PE/\"\n",
    "trgFiles = \"../data/raw/TRG/\"\n",
    "files = get_csv_files_list(peFiles)\n",
    "files = files + get_csv_files_list(trgFiles)\n",
    "\n",
    "#print(files)"
   ]
  },
  {
   "cell_type": "code",
   "execution_count": null,
   "metadata": {},
   "outputs": [],
   "source": []
  },
  {
   "cell_type": "code",
   "execution_count": null,
   "metadata": {},
   "outputs": [],
   "source": [
    "import pandas as pd\n",
    "\n",
    "# hide warnings\n",
    "import warnings\n",
    "warnings.filterwarnings(action='ignore')\n",
    "\n",
    "columns = ['Locationid','RecipeName','PLU','Salesdate','Quantity','NetSalesPrice','CostPrice']\n",
    "data = pd.read_csv(files[0], error_bad_lines=False)\n",
    "data.columns = columns\n",
    "for f in files[1:]:\n",
    "    #load skipping lines with invalide name, which contains , in name\n",
    "    df = pd.read_csv(files[7], error_bad_lines=False)\n",
    "    df.columns = columns\n",
    "    data.append(df)\n",
    "    "
   ]
  },
  {
   "cell_type": "code",
   "execution_count": null,
   "metadata": {},
   "outputs": [],
   "source": [
    "# group data by loction-recipe, sort groups by Salesdate\n",
    "positions = data.groupby(['Locationid','PLU']).size().rename('counts').reset_index()\n",
    "positions"
   ]
  },
  {
   "cell_type": "code",
   "execution_count": null,
   "metadata": {
    "scrolled": true
   },
   "outputs": [],
   "source": [
    "# save groups to a separate files to prepared folder\n",
    "data[(data['Locationid']==500)&(data['PLU']==4642)]"
   ]
  }
 ],
 "metadata": {
  "kernelspec": {
   "display_name": "Python 3",
   "language": "python",
   "name": "python3"
  },
  "language_info": {
   "codemirror_mode": {
    "name": "ipython",
    "version": 3
   },
   "file_extension": ".py",
   "mimetype": "text/x-python",
   "name": "python",
   "nbconvert_exporter": "python",
   "pygments_lexer": "ipython3",
   "version": "3.6.4"
  }
 },
 "nbformat": 4,
 "nbformat_minor": 1
}
