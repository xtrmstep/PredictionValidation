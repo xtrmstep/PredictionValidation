{
 "cells": [
  {
   "cell_type": "code",
   "execution_count": null,
   "metadata": {
    "collapsed": true
   },
   "outputs": [],
   "source": [
    "import os\n",
    "import numpy as np\n",
    "\n",
    "\n",
    "def get_csv_files_list(folder):\n",
    "    result = np.array(0)\n",
    "    for file in os.listdir(folder):\n",
    "        result.put(file)\n",
    "    return result\n",
    "\n",
    "\n",
    "dataRawFolder = \"../data/raw/\"\n",
    "\n",
    "files = get_csv_files_list(dataRawFolder)\n",
    "\n",
    "print(files)"
   ]
  }
 ],
 "metadata": {
  "kernelspec": {
   "display_name": "Python 2",
   "language": "python",
   "name": "python2"
  },
  "language_info": {
   "codemirror_mode": {
    "name": "ipython",
    "version": 2
   },
   "file_extension": ".py",
   "mimetype": "text/x-python",
   "name": "python",
   "nbconvert_exporter": "python",
   "pygments_lexer": "ipython2",
   "version": "2.7.6"
  }
 },
 "nbformat": 4,
 "nbformat_minor": 0
}
