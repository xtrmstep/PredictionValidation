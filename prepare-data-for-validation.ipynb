{
 "cells": [
  {
   "cell_type": "markdown",
   "metadata": {
    "collapsed": true
   },
   "source": [
    "# Prepare validation data"
   ]
  },
  {
   "cell_type": "markdown",
   "metadata": {},
   "source": [
    "Load sales for the period: 2017, January - March (PE, TRG)"
   ]
  },
  {
   "cell_type": "code",
   "execution_count": 1,
   "metadata": {},
   "outputs": [],
   "source": [
    "import pandas as pd\n",
    "import numpy as np\n",
    "sales2017 =  pd.DataFrame.from_csv('PE-TRG-Jan-Mar-2017.csv').reset_index()\n",
    "\n",
    "#remove duplications by summing up quantity by days\n",
    "sales2017 = pd.pivot_table(sales2017, values='Quantity', index=['Locationid','PLU','Year','Month','Day'], aggfunc=np.sum).reset_index()"
   ]
  },
  {
   "cell_type": "markdown",
   "metadata": {},
   "source": [
    "Keep only March data for validation"
   ]
  },
  {
   "cell_type": "code",
   "execution_count": 2,
   "metadata": {
    "collapsed": true
   },
   "outputs": [],
   "source": [
    "sales_2017_march = sales2017[(sales2017['Year']==2017)&(sales2017['Month']==3)]"
   ]
  },
  {
   "cell_type": "markdown",
   "metadata": {},
   "source": [
    "## Raw data properties"
   ]
  },
  {
   "cell_type": "code",
   "execution_count": 3,
   "metadata": {},
   "outputs": [
    {
     "name": "stdout",
     "output_type": "stream",
     "text": [
      "Total unique positions (Location-Recipe) 431646\n",
      "Total locations 515\n",
      "Total recipes 5213\n",
      "Data rows 4735802\n",
      "Negative data 2.85% (134970)\n",
      "Zero data 1.46% (69156)\n",
      "Positive data 95.69% (4531676)\n"
     ]
    },
    {
     "data": {
      "text/html": [
       "<div>\n",
       "<style>\n",
       "    .dataframe thead tr:only-child th {\n",
       "        text-align: right;\n",
       "    }\n",
       "\n",
       "    .dataframe thead th {\n",
       "        text-align: left;\n",
       "    }\n",
       "\n",
       "    .dataframe tbody tr th {\n",
       "        vertical-align: top;\n",
       "    }\n",
       "</style>\n",
       "<table border=\"1\" class=\"dataframe\">\n",
       "  <thead>\n",
       "    <tr style=\"text-align: right;\">\n",
       "      <th></th>\n",
       "      <th>segment</th>\n",
       "      <th>counts</th>\n",
       "      <th>%</th>\n",
       "    </tr>\n",
       "  </thead>\n",
       "  <tbody>\n",
       "    <tr>\n",
       "      <th>0</th>\n",
       "      <td>1. less than 10</td>\n",
       "      <td>239403</td>\n",
       "      <td>55.462810</td>\n",
       "    </tr>\n",
       "    <tr>\n",
       "      <th>1</th>\n",
       "      <td>2. 20 or less</td>\n",
       "      <td>101377</td>\n",
       "      <td>23.486144</td>\n",
       "    </tr>\n",
       "    <tr>\n",
       "      <th>2</th>\n",
       "      <td>3. 30 or less</td>\n",
       "      <td>76369</td>\n",
       "      <td>17.692507</td>\n",
       "    </tr>\n",
       "    <tr>\n",
       "      <th>3</th>\n",
       "      <td>4. more than 30</td>\n",
       "      <td>14497</td>\n",
       "      <td>3.358539</td>\n",
       "    </tr>\n",
       "  </tbody>\n",
       "</table>\n",
       "</div>"
      ],
      "text/plain": [
       "           segment  counts          %\n",
       "0  1. less than 10  239403  55.462810\n",
       "1    2. 20 or less  101377  23.486144\n",
       "2    3. 30 or less   76369  17.692507\n",
       "3  4. more than 30   14497   3.358539"
      ]
     },
     "execution_count": 3,
     "metadata": {},
     "output_type": "execute_result"
    }
   ],
   "source": [
    "positions = sales_2017_march.groupby(['Locationid','PLU']).size().rename('counts').reset_index()\n",
    "positions_count = len(positions.index)\n",
    "locations_count = len(positions.drop_duplicates(['Locationid']).index)\n",
    "products_count = len(positions.drop_duplicates(['PLU']).index)\n",
    "\n",
    "def setCountGroup(row):\n",
    "    if row['counts'] < 10:\n",
    "        return \"1. less than 10\"\n",
    "    elif row['counts'] <= 20:\n",
    "        return \"2. 20 or less\"\n",
    "    elif row['counts'] <= 30:\n",
    "        return \"3. 30 or less\"\n",
    "    else: \n",
    "        return \"4. more than 30\"\n",
    "    \n",
    "counts_groups = positions\n",
    "counts_groups['segment'] = counts_groups.apply(setCountGroup, axis=1)\n",
    "counts_groups = counts_groups.groupby('segment').size().rename('counts').reset_index()\n",
    "counts_groups['%'] = counts_groups.apply(lambda r: r['counts']/positions_count*100, axis=1)\n",
    "\n",
    "rows_in_march = len(sales_2017_march.index)\n",
    "rows_with_negative = len(sales_2017_march[sales_2017_march['Quantity'] < 0].index)\n",
    "rows_with_zero = len(sales_2017_march[sales_2017_march['Quantity'] == 0].index)\n",
    "rows_with_positive = len(sales_2017_march[sales_2017_march['Quantity'] > 0].index)\n",
    "\n",
    "# ==== output results ====\n",
    "\n",
    "print(\"Total unique positions (Location-Recipe) %d\" % (positions_count))\n",
    "print(\"Total locations %d\" % (locations_count))\n",
    "print(\"Total recipes %d\" % (products_count))\n",
    "\n",
    "print(\"Data rows %d\" % (rows_in_march))\n",
    "print(\"Negative data %.2f%% (%d)\" % (rows_with_negative/rows_in_march*100, rows_with_negative))\n",
    "print(\"Zero data %.2f%% (%d)\" % (rows_with_zero/rows_in_march*100, rows_with_zero))\n",
    "print(\"Positive data %.2f%% (%d)\" % (rows_with_positive/rows_in_march*100, rows_with_positive))\n",
    "\n",
    "counts_groups"
   ]
  },
  {
   "cell_type": "markdown",
   "metadata": {},
   "source": [
    "## Save to CSV"
   ]
  },
  {
   "cell_type": "code",
   "execution_count": 4,
   "metadata": {
    "collapsed": true
   },
   "outputs": [],
   "source": [
    "sales_2017_march.to_csv('sales-2017-march.csv')"
   ]
  },
  {
   "cell_type": "code",
   "execution_count": null,
   "metadata": {
    "collapsed": true
   },
   "outputs": [],
   "source": []
  }
 ],
 "metadata": {
  "kernelspec": {
   "display_name": "Python 3",
   "language": "python",
   "name": "python3"
  },
  "language_info": {
   "codemirror_mode": {
    "name": "ipython",
    "version": 3
   },
   "file_extension": ".py",
   "mimetype": "text/x-python",
   "name": "python",
   "nbconvert_exporter": "python",
   "pygments_lexer": "ipython3",
   "version": "3.6.1"
  }
 },
 "nbformat": 4,
 "nbformat_minor": 2
}
