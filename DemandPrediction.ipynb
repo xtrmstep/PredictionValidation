{
 "cells": [
  {
   "cell_type": "code",
   "execution_count": null,
   "metadata": {
    "collapsed": true
   },
   "outputs": [],
   "source": [
    "import pandas as pd\n",
    "import numpy as np\n",
    "frame =  pd.DataFrame.from_csv('PE-UK-Feb-2017.csv')"
   ]
  },
  {
   "cell_type": "code",
   "execution_count": null,
   "metadata": {
    "collapsed": true
   },
   "outputs": [],
   "source": [
    "qty_by_days = pd.pivot_table(frame, values='Quantity', index=['PLU','Locationid','Year','Month','Day','YearDay','WeekDay'],\n",
    "                   aggfunc=np.sum).reset_index()\n",
    "qty_by_days = qty_by_days.sort_values(['PLU','Locationid','Year','Month','Day','YearDay','WeekDay'])"
   ]
  },
  {
   "cell_type": "code",
   "execution_count": null,
   "metadata": {},
   "outputs": [],
   "source": [
    "#take the previous value to add more information (shift - move pointer backward)\n",
    "qty_by_days['Day-1'] = qty_by_days['Quantity'].shift(1)\n",
    "qty_by_days['Day-2'] = qty_by_days['Quantity'].shift(2)\n",
    "qty_by_days['Day-3'] = qty_by_days['Quantity'].shift(3)\n",
    "qty_by_days['Day-4'] = qty_by_days['Quantity'].shift(4)\n",
    "qty_by_days['Day-5'] = qty_by_days['Quantity'].shift(5)\n",
    "qty_by_days['Day-6'] = qty_by_days['Quantity'].shift(6)\n",
    "qty_by_days['Day-7'] = qty_by_days['Quantity'].shift(7)\n",
    "#replace NaN with zeros\n",
    "qty_by_days.fillna(0,inplace=True)\n",
    "\n",
    "#take weeks averages\n",
    "def week_avg(df, newColumn, startIndex):\n",
    "    df[newColumn] = (np.nan_to_num(df['Quantity'].shift(startIndex))\n",
    "                         +np.nan_to_num(df['Quantity'].shift(startIndex+1))\n",
    "                         +np.nan_to_num(df['Quantity'].shift(startIndex+2))\n",
    "                         +np.nan_to_num(df['Quantity'].shift(startIndex+3))\n",
    "                         +np.nan_to_num(df['Quantity'].shift(startIndex+4))\n",
    "                         +np.nan_to_num(df['Quantity'].shift(startIndex+5))\n",
    "                         +np.nan_to_num(df['Quantity'].shift(startIndex+6)))/7\n",
    "    \n",
    "week_avg(qty_by_days, 'Week-1', 1)\n",
    "week_avg(qty_by_days, 'Week-2', 2)\n",
    "week_avg(qty_by_days, 'Week-3', 3)\n",
    "week_avg(qty_by_days, 'Week-4', 4)\n",
    "week_avg(qty_by_days, 'Week-5', 5)\n",
    "\n",
    "qty_by_days"
   ]
  },
  {
   "cell_type": "code",
   "execution_count": null,
   "metadata": {},
   "outputs": [],
   "source": [
    "qty_by_days.corr()['Quantity']"
   ]
  },
  {
   "cell_type": "code",
   "execution_count": null,
   "metadata": {},
   "outputs": [],
   "source": [
    "qty_by_days[qty_by_days['PLU'] == 1894].to_csv('1894.csv', sep=',')"
   ]
  },
  {
   "cell_type": "code",
   "execution_count": null,
   "metadata": {
    "scrolled": true
   },
   "outputs": [],
   "source": [
    "import pylab as plt\n",
    "\n",
    "X = qty_by_days['Quantity']\n",
    "Y1 = qty_by_days['Day-1']\n",
    "Y2 = qty_by_days['WeekDay']\n",
    "\n",
    "#plt.scatter(X,Y1,color='k', s=2)\n",
    "plt.scatter(X,Y2,color='g', s=2)\n",
    "plt.show()"
   ]
  },
  {
   "cell_type": "code",
   "execution_count": null,
   "metadata": {
    "collapsed": true
   },
   "outputs": [],
   "source": []
  }
 ],
 "metadata": {
  "kernelspec": {
   "display_name": "Python 3",
   "language": "python",
   "name": "python3"
  },
  "language_info": {
   "codemirror_mode": {
    "name": "ipython",
    "version": 3
   },
   "file_extension": ".py",
   "mimetype": "text/x-python",
   "name": "python",
   "nbconvert_exporter": "python",
   "pygments_lexer": "ipython3",
   "version": "3.6.1"
  }
 },
 "nbformat": 4,
 "nbformat_minor": 2
}
