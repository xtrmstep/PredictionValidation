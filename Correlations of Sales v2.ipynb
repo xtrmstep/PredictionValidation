{
 "cells": [
  {
   "cell_type": "code",
   "execution_count": null,
   "metadata": {
    "collapsed": true
   },
   "outputs": [],
   "source": [
    "import pandas as pd\n",
    "import numpy as np\n",
    "\n",
    "sales_real =  pd.DataFrame.from_csv('sales_march_v2.csv').reset_index()\n",
    "sales_avg =  pd.DataFrame.from_csv('sales_march_moving_average_v2.csv').reset_index()\n",
    "sales_ml =  pd.DataFrame.from_csv('sales_march_ml_v2.csv').reset_index()\n",
    "#real_sales['Salesdate'] = pd.to_datetime(real_sales['Salesdate'], format='%Y-%m-%d %H:%M:%S')"
   ]
  },
  {
   "cell_type": "code",
   "execution_count": null,
   "metadata": {
    "collapsed": true
   },
   "outputs": [],
   "source": [
    "sales_with_ml = pd.merge(sales_real, sales_ml, on=['Locationid','PLU','Year','Month','Day'], how='inner')\n",
    "sales_with_ml_avg = pd.merge(sales_with_ml, sales_avg, on=['Locationid','PLU','Year','Month','Day'], how='inner')\n",
    "sales_with_ml_avg = sales_with_ml_avg.rename(columns={'Quantity_x': 'real', 'Quantity_y':'ml', 'Quantity':'avg'})"
   ]
  },
  {
   "cell_type": "code",
   "execution_count": null,
   "metadata": {
    "collapsed": true
   },
   "outputs": [],
   "source": [
    "#products = sales_with_ml_avg['PLU'].unique().tolist()\n",
    "#locations = sales_with_ml_avg['Locationid'].unique().tolist()"
   ]
  },
  {
   "cell_type": "code",
   "execution_count": null,
   "metadata": {},
   "outputs": [],
   "source": [
    "correl = sales_with_ml_avg[['real','ml','avg']].corr()\n",
    "all_population = correl*correl\n",
    "all_population"
   ]
  },
  {
   "cell_type": "code",
   "execution_count": null,
   "metadata": {},
   "outputs": [],
   "source": [
    "corr_by_groups = sales_with_ml_avg.groupby(['Locationid','PLU'])['real', 'ml', 'avg'].corr()\n",
    "#corr_by_groups = corr_by_groups*corr_by_groups"
   ]
  },
  {
   "cell_type": "code",
   "execution_count": null,
   "metadata": {},
   "outputs": [],
   "source": [
    "d = corr_by_groups.reset_index()\n",
    "d = d[d['level_2']=='real']\n",
    "c = d[(d['Locationid']==40)&(d['PLU']==2459)]"
   ]
  },
  {
   "cell_type": "code",
   "execution_count": null,
   "metadata": {},
   "outputs": [],
   "source": [
    "c*c"
   ]
  },
  {
   "cell_type": "code",
   "execution_count": null,
   "metadata": {},
   "outputs": [],
   "source": [
    "\n",
    "rows_all = len(d.index)\n",
    "print(\"Number of all observations = %d\" % (rows_all))\n",
    "\n",
    "ml_better = d[d['ml'] > d['avg']]\n",
    "ml_diff = ml_better['ml'] - ml_better['avg']\n",
    "rows_ml = len(ml_better.index)\n",
    "print(\"ML is better in %d observations of %d (%d%%)\" % (rows_ml, rows_all, rows_ml/rows_all*100))\n",
    "print(\"ML performance is better in %d%% for above observations\" % (ml_diff.mean()*100))\n",
    "\n",
    "avg_better = d[d['ml'] < d['avg']]\n",
    "avg_diff = avg_better['avg'] - avg_better['ml']\n",
    "rows_avg = len(avg_better.index)\n",
    "print(\"AVG is better in %d observations of %d (%d%%)\" % (rows_avg, rows_all, rows_avg/rows_all*100))\n",
    "print(\"AVG performance is better in %d%% for above observations\" % (avg_diff.mean()*100))"
   ]
  },
  {
   "cell_type": "code",
   "execution_count": null,
   "metadata": {},
   "outputs": [],
   "source": [
    "c = d\n",
    "c['diff'] = c['ml'] - c['avg']\n",
    "c['diff'] = c['diff'].abs()"
   ]
  },
  {
   "cell_type": "code",
   "execution_count": null,
   "metadata": {},
   "outputs": [],
   "source": [
    "# best ML\n",
    "c[(c['ml']>0)&(c['avg']<c['ml'])].sort_values(['diff', 'ml'], ascending=(False,False)).head(5)"
   ]
  },
  {
   "cell_type": "code",
   "execution_count": null,
   "metadata": {},
   "outputs": [],
   "source": [
    "# best AVG\n",
    "c[(c['avg']>0)&(c['avg']>c['ml'])].sort_values(['diff', 'avg'], ascending=(False,False)).head(5)\n"
   ]
  },
  {
   "cell_type": "code",
   "execution_count": null,
   "metadata": {},
   "outputs": [],
   "source": [
    "# best ML\n",
    "best_ml_locations = [484,84,174,268,40]\n",
    "best_ml_recipes = [1000001486,2413,2916,3383,2459]\n",
    "s = sales_with_ml_avg[(sales_with_ml_avg['Locationid'].isin(best_ml_locations)) & (sales_with_ml_avg['PLU'].isin(best_ml_recipes))]\n",
    "s = s.drop(['index','index_y','index_x'], axis=1)\n",
    "s = s[['Locationid','PLU','Year','Month','Day','real','ml','avg']]\n",
    "s.to_csv('best_ml_prediction.csv', sep=',')"
   ]
  },
  {
   "cell_type": "code",
   "execution_count": null,
   "metadata": {
    "collapsed": true
   },
   "outputs": [],
   "source": [
    "# best AVG\n",
    "best_avg_locations = [227,261,75,195,272]\n",
    "best_avg_recipes = [2927,4122,354213,353808,4144]\n",
    "s = sales_with_ml_avg[(sales_with_ml_avg['Locationid'].isin(best_avg_locations)) & (sales_with_ml_avg['PLU'].isin(best_avg_recipes))]\n",
    "s = s.drop(['index','index_y','index_x'], axis=1)\n",
    "s = s[['Locationid','PLU','Year','Month','Day','real','ml','avg']]\n",
    "s.to_csv('best_avg_prediction.csv', sep=',')"
   ]
  },
  {
   "cell_type": "markdown",
   "metadata": {},
   "source": [
    "cs = s.groupby(['Locationid','PLU'])['real', 'ml', 'avg'].corr()\n",
    "cs"
   ]
  },
  {
   "cell_type": "markdown",
   "metadata": {
    "collapsed": true
   },
   "source": [
    "cs = cs*cs\n",
    "cs"
   ]
  }
 ],
 "metadata": {
  "kernelspec": {
   "display_name": "Python 3",
   "language": "python",
   "name": "python3"
  },
  "language_info": {
   "codemirror_mode": {
    "name": "ipython",
    "version": 3
   },
   "file_extension": ".py",
   "mimetype": "text/x-python",
   "name": "python",
   "nbconvert_exporter": "python",
   "pygments_lexer": "ipython3",
   "version": "3.6.1"
  }
 },
 "nbformat": 4,
 "nbformat_minor": 2
}
